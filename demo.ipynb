{
  "nbformat": 4,
  "nbformat_minor": 0,
  "metadata": {
    "colab": {
      "provenance": [],
      "gpuType": "T4"
    },
    "kernelspec": {
      "name": "python3",
      "display_name": "Python 3"
    },
    "language_info": {
      "name": "python"
    },
    "accelerator": "GPU"
  },
  "cells": [
    {
      "cell_type": "code",
      "execution_count": 1,
      "metadata": {
        "colab": {
          "base_uri": "https://localhost:8080/"
        },
        "id": "DAQyYLdkyAP3",
        "outputId": "6af98e7f-2d34-4f8a-d0a0-b058a5a6a4e9"
      },
      "outputs": [
        {
          "output_type": "stream",
          "name": "stdout",
          "text": [
            "Requirement already satisfied: torch in /usr/local/lib/python3.10/dist-packages (2.1.0+cu121)\n",
            "Requirement already satisfied: filelock in /usr/local/lib/python3.10/dist-packages (from torch) (3.13.1)\n",
            "Requirement already satisfied: typing-extensions in /usr/local/lib/python3.10/dist-packages (from torch) (4.5.0)\n",
            "Requirement already satisfied: sympy in /usr/local/lib/python3.10/dist-packages (from torch) (1.12)\n",
            "Requirement already satisfied: networkx in /usr/local/lib/python3.10/dist-packages (from torch) (3.2.1)\n",
            "Requirement already satisfied: jinja2 in /usr/local/lib/python3.10/dist-packages (from torch) (3.1.3)\n",
            "Requirement already satisfied: fsspec in /usr/local/lib/python3.10/dist-packages (from torch) (2023.6.0)\n",
            "Requirement already satisfied: triton==2.1.0 in /usr/local/lib/python3.10/dist-packages (from torch) (2.1.0)\n",
            "Requirement already satisfied: MarkupSafe>=2.0 in /usr/local/lib/python3.10/dist-packages (from jinja2->torch) (2.1.4)\n",
            "Requirement already satisfied: mpmath>=0.19 in /usr/local/lib/python3.10/dist-packages (from sympy->torch) (1.3.0)\n",
            "Requirement already satisfied: transformers in /usr/local/lib/python3.10/dist-packages (4.35.2)\n",
            "Requirement already satisfied: filelock in /usr/local/lib/python3.10/dist-packages (from transformers) (3.13.1)\n",
            "Requirement already satisfied: huggingface-hub<1.0,>=0.16.4 in /usr/local/lib/python3.10/dist-packages (from transformers) (0.20.3)\n",
            "Requirement already satisfied: numpy>=1.17 in /usr/local/lib/python3.10/dist-packages (from transformers) (1.23.5)\n",
            "Requirement already satisfied: packaging>=20.0 in /usr/local/lib/python3.10/dist-packages (from transformers) (23.2)\n",
            "Requirement already satisfied: pyyaml>=5.1 in /usr/local/lib/python3.10/dist-packages (from transformers) (6.0.1)\n",
            "Requirement already satisfied: regex!=2019.12.17 in /usr/local/lib/python3.10/dist-packages (from transformers) (2023.6.3)\n",
            "Requirement already satisfied: requests in /usr/local/lib/python3.10/dist-packages (from transformers) (2.31.0)\n",
            "Requirement already satisfied: tokenizers<0.19,>=0.14 in /usr/local/lib/python3.10/dist-packages (from transformers) (0.15.1)\n",
            "Requirement already satisfied: safetensors>=0.3.1 in /usr/local/lib/python3.10/dist-packages (from transformers) (0.4.1)\n",
            "Requirement already satisfied: tqdm>=4.27 in /usr/local/lib/python3.10/dist-packages (from transformers) (4.66.1)\n",
            "Requirement already satisfied: fsspec>=2023.5.0 in /usr/local/lib/python3.10/dist-packages (from huggingface-hub<1.0,>=0.16.4->transformers) (2023.6.0)\n",
            "Requirement already satisfied: typing-extensions>=3.7.4.3 in /usr/local/lib/python3.10/dist-packages (from huggingface-hub<1.0,>=0.16.4->transformers) (4.5.0)\n",
            "Requirement already satisfied: charset-normalizer<4,>=2 in /usr/local/lib/python3.10/dist-packages (from requests->transformers) (3.3.2)\n",
            "Requirement already satisfied: idna<4,>=2.5 in /usr/local/lib/python3.10/dist-packages (from requests->transformers) (3.6)\n",
            "Requirement already satisfied: urllib3<3,>=1.21.1 in /usr/local/lib/python3.10/dist-packages (from requests->transformers) (2.0.7)\n",
            "Requirement already satisfied: certifi>=2017.4.17 in /usr/local/lib/python3.10/dist-packages (from requests->transformers) (2023.11.17)\n",
            "Requirement already satisfied: qa-metrics==0.1.27 in /usr/local/lib/python3.10/dist-packages (0.1.27)\n",
            "Requirement already satisfied: contractions>=0.0.1 in /usr/local/lib/python3.10/dist-packages (from qa-metrics==0.1.27) (0.1.73)\n",
            "Requirement already satisfied: joblib in /usr/local/lib/python3.10/dist-packages (from qa-metrics==0.1.27) (1.3.2)\n",
            "Requirement already satisfied: requests in /usr/local/lib/python3.10/dist-packages (from qa-metrics==0.1.27) (2.31.0)\n",
            "Requirement already satisfied: scipy>=1.5.0 in /usr/local/lib/python3.10/dist-packages (from qa-metrics==0.1.27) (1.11.4)\n",
            "Requirement already satisfied: scikit-learn==1.3.2 in /usr/local/lib/python3.10/dist-packages (from qa-metrics==0.1.27) (1.3.2)\n",
            "Requirement already satisfied: numpy in /usr/local/lib/python3.10/dist-packages (from qa-metrics==0.1.27) (1.23.5)\n",
            "Requirement already satisfied: threadpoolctl>=2.0.0 in /usr/local/lib/python3.10/dist-packages (from scikit-learn==1.3.2->qa-metrics==0.1.27) (3.2.0)\n",
            "Requirement already satisfied: textsearch>=0.0.21 in /usr/local/lib/python3.10/dist-packages (from contractions>=0.0.1->qa-metrics==0.1.27) (0.0.24)\n",
            "Requirement already satisfied: charset-normalizer<4,>=2 in /usr/local/lib/python3.10/dist-packages (from requests->qa-metrics==0.1.27) (3.3.2)\n",
            "Requirement already satisfied: idna<4,>=2.5 in /usr/local/lib/python3.10/dist-packages (from requests->qa-metrics==0.1.27) (3.6)\n",
            "Requirement already satisfied: urllib3<3,>=1.21.1 in /usr/local/lib/python3.10/dist-packages (from requests->qa-metrics==0.1.27) (2.0.7)\n",
            "Requirement already satisfied: certifi>=2017.4.17 in /usr/local/lib/python3.10/dist-packages (from requests->qa-metrics==0.1.27) (2023.11.17)\n",
            "Requirement already satisfied: anyascii in /usr/local/lib/python3.10/dist-packages (from textsearch>=0.0.21->contractions>=0.0.1->qa-metrics==0.1.27) (0.3.2)\n",
            "Requirement already satisfied: pyahocorasick in /usr/local/lib/python3.10/dist-packages (from textsearch>=0.0.21->contractions>=0.0.1->qa-metrics==0.1.27) (2.0.0)\n"
          ]
        }
      ],
      "source": [
        "!pip install torch\n",
        "!pip install transformers\n",
        "!pip install qa-metrics"
      ]
    },
    {
      "cell_type": "code",
      "source": [
        "from qa_metrics.em import em_match\n",
        "\n",
        "reference_answer = [\"Charles , Prince of Wales\"]\n",
        "candidate_answer = \"Prince Charles\"\n",
        "match_result = em_match(reference_answer, candidate_answer)\n",
        "print(\"Exact Match: \", match_result)"
      ],
      "metadata": {
        "colab": {
          "base_uri": "https://localhost:8080/"
        },
        "id": "V2kuosuxyRm-",
        "outputId": "ad323483-9c72-4155-cd13-f4429ad448f1"
      },
      "execution_count": 2,
      "outputs": [
        {
          "output_type": "stream",
          "name": "stdout",
          "text": [
            "Exact Match:  False\n"
          ]
        }
      ]
    },
    {
      "cell_type": "code",
      "source": [
        "from qa_metrics.f1 import f1_match,f1_score_with_precision_recall\n",
        "\n",
        "\n",
        "reference_answer = [\"The Frog Prince\"]\n",
        "candidate_answer = \"The movie \\\"The Princess and the Frog\\\" is loosely based off the Brother Grimm's \\\"Iron Henry\\\"\"\n",
        "f1_stats = f1_score_with_precision_recall(reference_answer[0], candidate_answer)\n",
        "print(\"F1 stats: \", f1_stats)\n",
        "\n",
        "match_result = f1_match(reference_answer, candidate_answer, threshold=0.5)\n",
        "print(\"F1 Match: \", match_result)"
      ],
      "metadata": {
        "colab": {
          "base_uri": "https://localhost:8080/"
        },
        "id": "3BUQ7t4kyZgC",
        "outputId": "50b9a598-397a-4481-9e71-63eed7d8a26d"
      },
      "execution_count": 3,
      "outputs": [
        {
          "output_type": "stream",
          "name": "stdout",
          "text": [
            "F1 stats:  {'f1': 0.25, 'precision': 0.6666666666666666, 'recall': 0.15384615384615385}\n",
            "F1 Match:  False\n"
          ]
        }
      ]
    },
    {
      "cell_type": "code",
      "source": [
        "from qa_metrics.cfm import CFMatcher\n",
        "\n",
        "# question = \"who will take the throne after the queen dies\"\n",
        "question = \"Which movie is loosley based off the Brother Grimm's Iron Henry?\"\n",
        "cfm = CFMatcher()\n",
        "scores = cfm.get_scores(reference_answer, candidate_answer, question)\n",
        "match_result = cfm.cf_match(reference_answer, candidate_answer, question)\n",
        "print(\"Score: %s; CF Match: %s\" % (scores, match_result))"
      ],
      "metadata": {
        "colab": {
          "base_uri": "https://localhost:8080/"
        },
        "id": "p6vyCaSZybqC",
        "outputId": "bc1eb699-37ea-460f-f519-76798b30d968"
      },
      "execution_count": 4,
      "outputs": [
        {
          "output_type": "stream",
          "name": "stdout",
          "text": [
            "Score: {'the frog prince': {'The movie \"The Princess and the Frog\" is loosely based off the Brother Grimm\\'s \"Iron Henry\"': 0.7131625951317375}}; CF Match: True\n"
          ]
        }
      ]
    },
    {
      "cell_type": "code",
      "source": [
        "from qa_metrics.transformerMatcher import TransformerMatcher\n",
        "\n",
        "# question = \"who will take the throne after the queen dies\"\n",
        "'''Now also supports distilroberta'''\n",
        "tm = TransformerMatcher(\"bert\")\n",
        "scores = tm.get_scores(reference_answer, candidate_answer, question)\n",
        "match_result = tm.transformer_match(reference_answer, candidate_answer, question)\n",
        "print(\"Score: %s; CF Match: %s\" % (scores, match_result))"
      ],
      "metadata": {
        "colab": {
          "base_uri": "https://localhost:8080/"
        },
        "id": "oiaYtm-MyeX-",
        "outputId": "9b45c5b2-f3e1-43eb-986f-f834e22b456e"
      },
      "execution_count": 5,
      "outputs": [
        {
          "output_type": "stream",
          "name": "stdout",
          "text": [
            "Using device: cuda\n"
          ]
        },
        {
          "output_type": "stream",
          "name": "stderr",
          "text": [
            "/usr/local/lib/python3.10/dist-packages/huggingface_hub/utils/_token.py:88: UserWarning: \n",
            "The secret `HF_TOKEN` does not exist in your Colab secrets.\n",
            "To authenticate with the Hugging Face Hub, create a token in your settings tab (https://huggingface.co/settings/tokens), set it as secret in your Google Colab and restart your session.\n",
            "You will be able to reuse this secret in all of your notebooks.\n",
            "Please note that authentication is recommended but still optional to access public models or datasets.\n",
            "  warnings.warn(\n"
          ]
        },
        {
          "output_type": "stream",
          "name": "stdout",
          "text": [
            "Score: {'The Frog Prince': {'The movie \"The Princess and the Frog\" is loosely based off the Brother Grimm\\'s \"Iron Henry\"': 0.6934309}}; CF Match: True\n"
          ]
        }
      ]
    },
    {
      "cell_type": "code",
      "source": [
        "'''Now also supports distilroberta'''\n",
        "tm = TransformerMatcher(\"distilroberta\")\n",
        "scores = tm.get_scores(reference_answer, candidate_answer, question)\n",
        "match_result = tm.transformer_match(reference_answer, candidate_answer, question)\n",
        "print(\"Score: %s; CF Match: %s\" % (scores, match_result))"
      ],
      "metadata": {
        "colab": {
          "base_uri": "https://localhost:8080/"
        },
        "id": "wxzL0278yqR1",
        "outputId": "69c1d053-f1f3-41d3-bc6b-3a8115923396"
      },
      "execution_count": 8,
      "outputs": [
        {
          "output_type": "stream",
          "name": "stdout",
          "text": [
            "Using device: cuda\n",
            "Score: {'The Frog Prince': {'The movie \"The Princess and the Frog\" is loosely based off the Brother Grimm\\'s \"Iron Henry\"': 0.88954514}}; CF Match: True\n"
          ]
        }
      ]
    },
    {
      "cell_type": "code",
      "source": [
        "tm = TransformerMatcher(\"distilbert\")\n",
        "scores = tm.get_scores(reference_answer, candidate_answer, question)\n",
        "match_result = tm.transformer_match(reference_answer, candidate_answer, question)\n",
        "print(\"Score: %s; CF Match: %s\" % (scores, match_result))"
      ],
      "metadata": {
        "colab": {
          "base_uri": "https://localhost:8080/"
        },
        "id": "jS0Zf0_QmZ0S",
        "outputId": "af23fe0d-b0e1-4d73-e69f-526222ad0d45"
      },
      "execution_count": 6,
      "outputs": [
        {
          "output_type": "stream",
          "name": "stdout",
          "text": [
            "Using device: cuda\n",
            "Score: {'The Frog Prince': {'The movie \"The Princess and the Frog\" is loosely based off the Brother Grimm\\'s \"Iron Henry\"': 0.91319984}}; CF Match: True\n"
          ]
        }
      ]
    }
  ]
}